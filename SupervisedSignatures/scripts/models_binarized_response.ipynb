{
 "cells": [
  {
   "cell_type": "code",
   "execution_count": 55,
   "metadata": {
    "id": "YCjAUn-Ogwtv"
   },
   "outputs": [],
   "source": [
    "# load libraries\n",
    "import pandas as pd\n",
    "import numpy as np\n",
    "from sklearn.linear_model import LogisticRegression\n",
    "from sklearn.ensemble import RandomForestClassifier\n",
    "from sklearn.model_selection import train_test_split, GridSearchCV\n",
    "from sklearn.metrics import accuracy_score, precision_score, recall_score, f1_score, roc_auc_score, log_loss\n",
    "from scipy import stats"
   ]
  },
  {
   "cell_type": "code",
   "execution_count": null,
   "metadata": {
    "id": "FJUsIM2FlVxT"
   },
   "outputs": [],
   "source": [
    "# specify file paths\n",
    "features = \"peakmat_bin.csv\"\n",
    "response = \"pac_bin.csv\"\n",
    "\n",
    "# read in files\n",
    "X = pd.read_csv(features)\n",
    "X = X.iloc[:, 1:]                       # remove cell line labels\n",
    "y = pd.read_csv(response)['response']   # read only drug response column"
   ]
  },
  {
   "cell_type": "code",
   "execution_count": 57,
   "metadata": {
    "id": "hSD-lRBUvRQe"
   },
   "outputs": [],
   "source": [
    "# split the training dataframe into train and val\n",
    "X_train, X_test, y_train, y_test = train_test_split(X, y, test_size=0.2, random_state=42, stratify=y)"
   ]
  },
  {
   "cell_type": "markdown",
   "metadata": {
    "id": "-NgKG0FFLP0V"
   },
   "source": [
    "Un-penalized Logistic Model Training and Testing"
   ]
  },
  {
   "cell_type": "code",
   "execution_count": 58,
   "metadata": {
    "colab": {
     "base_uri": "https://localhost:8080/"
    },
    "id": "q0d_pai3LTP-",
    "outputId": "6df54556-0637-4f22-cfdc-21fa10ece09e"
   },
   "outputs": [
    {
     "name": "stdout",
     "output_type": "stream",
     "text": [
      "Precision: 1.0\n",
      "Recall: 0.5\n",
      "F1-Score: 0.6666666666666666\n"
     ]
    }
   ],
   "source": [
    "# initialize logistic regression model\n",
    "log = LogisticRegression(penalty=None, solver='lbfgs', max_iter=1000)\n",
    "\n",
    "# fit model\n",
    "log.fit(X_train, y_train)\n",
    "\n",
    "# get predicted values for test data\n",
    "y_pred = log.predict(X_test)\n",
    "\n",
    "# compute precision and recall (and F1 score)\n",
    "precision = precision_score(y_test, y_pred)\n",
    "recall = recall_score(y_test, y_pred)\n",
    "f1 = f1_score(y_test, y_pred)\n",
    "\n",
    "print(\"Precision:\", precision)\n",
    "print(\"Recall:\", recall)\n",
    "print(\"F1-Score:\", f1)"
   ]
  },
  {
   "cell_type": "markdown",
   "metadata": {
    "id": "hPzQCsGOKJiw"
   },
   "source": [
    "LASSO Model Training and Testing"
   ]
  },
  {
   "cell_type": "code",
   "execution_count": 59,
   "metadata": {
    "colab": {
     "base_uri": "https://localhost:8080/"
    },
    "id": "4oFBHcoXrWb2",
    "outputId": "f0c91efe-606f-4dab-bbcc-214688ccb7f6"
   },
   "outputs": [
    {
     "name": "stdout",
     "output_type": "stream",
     "text": [
      "Best params: {'C': 10}\n"
     ]
    }
   ],
   "source": [
    "# initialize LASSO model\n",
    "lasso = LogisticRegression(penalty='l1', solver='liblinear', max_iter=1000)\n",
    "\n",
    "# specify parameters for optimization\n",
    "parameters = {\n",
    "    'C': [0.001, 0.01, 0.1, 1, 10, 100]\n",
    "  }\n",
    "\n",
    "# identify optimal parameters\n",
    "clf = GridSearchCV(\n",
    "    estimator = lasso,\n",
    "    param_grid = parameters,\n",
    "    #verbose=2\n",
    "  )\n",
    "clf.fit(X_train, y_train)\n",
    "print('Best params:', clf.best_params_ )"
   ]
  },
  {
   "cell_type": "code",
   "execution_count": 60,
   "metadata": {
    "colab": {
     "base_uri": "https://localhost:8080/"
    },
    "id": "WeEowQubwVPi",
    "outputId": "77b876a4-3e90-4ee8-e350-e542c10936ce"
   },
   "outputs": [
    {
     "name": "stdout",
     "output_type": "stream",
     "text": [
      "Precision: 1.0\n",
      "Recall: 0.5\n",
      "F1-Score: 0.6666666666666666\n"
     ]
    }
   ],
   "source": [
    "# test best model parameters on test data\n",
    "clf_best = clf.best_estimator_\n",
    "\n",
    "# get predicted values for test data\n",
    "y_pred = clf_best.predict(X_test)\n",
    "\n",
    "# compute precision and recall (and F1 score)\n",
    "precision = precision_score(y_test, y_pred)\n",
    "recall = recall_score(y_test, y_pred)\n",
    "f1 = f1_score(y_test, y_pred)\n",
    "\n",
    "print(\"Precision:\", precision)\n",
    "print(\"Recall:\", recall)\n",
    "print(\"F1-Score:\", f1)"
   ]
  },
  {
   "cell_type": "markdown",
   "metadata": {
    "id": "QZ6Fq5dlKOyp"
   },
   "source": [
    "Ridge Model Training and Testing"
   ]
  },
  {
   "cell_type": "code",
   "execution_count": 61,
   "metadata": {
    "colab": {
     "base_uri": "https://localhost:8080/"
    },
    "id": "m9cBbofjKQrc",
    "outputId": "c6b13164-09ba-44ff-e039-4ccb0800928d"
   },
   "outputs": [
    {
     "name": "stdout",
     "output_type": "stream",
     "text": [
      "Best params: {'C': 0.01}\n"
     ]
    }
   ],
   "source": [
    "# initialize Ridge model\n",
    "ridge = LogisticRegression(penalty='l2', solver='liblinear', max_iter=1000)\n",
    "\n",
    "# specify parameters for optimization\n",
    "parameters = {\n",
    "    'C': [0.001, 0.01, 0.1, 1, 10, 100]\n",
    "  }\n",
    "\n",
    "# identify optimal parameters\n",
    "clf = GridSearchCV(\n",
    "    estimator = ridge,\n",
    "    param_grid = parameters,\n",
    "    #verbose=2\n",
    "  )\n",
    "clf.fit(X_train, y_train)\n",
    "print('Best params:', clf.best_params_ )"
   ]
  },
  {
   "cell_type": "code",
   "execution_count": 62,
   "metadata": {
    "colab": {
     "base_uri": "https://localhost:8080/"
    },
    "id": "QebJOCOHKWVc",
    "outputId": "87c5c84b-5169-4319-fca7-da39b611cdfd"
   },
   "outputs": [
    {
     "name": "stdout",
     "output_type": "stream",
     "text": [
      "Precision: 0.0\n",
      "Recall: 0.0\n",
      "F1-Score: 0.0\n"
     ]
    },
    {
     "name": "stderr",
     "output_type": "stream",
     "text": [
      "/usr/local/lib/python3.10/dist-packages/sklearn/metrics/_classification.py:1531: UndefinedMetricWarning: Precision is ill-defined and being set to 0.0 due to no predicted samples. Use `zero_division` parameter to control this behavior.\n",
      "  _warn_prf(average, modifier, f\"{metric.capitalize()} is\", len(result))\n"
     ]
    }
   ],
   "source": [
    "# test best model parameters on test data\n",
    "clf_best = clf.best_estimator_\n",
    "\n",
    "# get predicted values for test data\n",
    "y_pred = clf_best.predict(X_test)\n",
    "\n",
    "# compute precision and recall (and F1 score)\n",
    "precision = precision_score(y_test, y_pred)\n",
    "recall = recall_score(y_test, y_pred)\n",
    "f1 = f1_score(y_test, y_pred)\n",
    "\n",
    "print(\"Precision:\", precision)\n",
    "print(\"Recall:\", recall)\n",
    "print(\"F1-Score:\", f1)"
   ]
  },
  {
   "cell_type": "markdown",
   "metadata": {
    "id": "IN-niQkHKZTv"
   },
   "source": [
    "ElasticNet Model Training and Testing"
   ]
  },
  {
   "cell_type": "code",
   "execution_count": 63,
   "metadata": {
    "colab": {
     "base_uri": "https://localhost:8080/"
    },
    "id": "iaCvwGzrKbRg",
    "outputId": "4bd8686b-2c89-4ee8-9bdc-ed40b06a0e8a"
   },
   "outputs": [
    {
     "name": "stderr",
     "output_type": "stream",
     "text": [
      "/usr/local/lib/python3.10/dist-packages/sklearn/linear_model/_sag.py:349: ConvergenceWarning: The max_iter was reached which means the coef_ did not converge\n",
      "  warnings.warn(\n",
      "/usr/local/lib/python3.10/dist-packages/sklearn/linear_model/_sag.py:349: ConvergenceWarning: The max_iter was reached which means the coef_ did not converge\n",
      "  warnings.warn(\n",
      "/usr/local/lib/python3.10/dist-packages/sklearn/linear_model/_sag.py:349: ConvergenceWarning: The max_iter was reached which means the coef_ did not converge\n",
      "  warnings.warn(\n",
      "/usr/local/lib/python3.10/dist-packages/sklearn/linear_model/_sag.py:349: ConvergenceWarning: The max_iter was reached which means the coef_ did not converge\n",
      "  warnings.warn(\n",
      "/usr/local/lib/python3.10/dist-packages/sklearn/linear_model/_sag.py:349: ConvergenceWarning: The max_iter was reached which means the coef_ did not converge\n",
      "  warnings.warn(\n"
     ]
    },
    {
     "name": "stdout",
     "output_type": "stream",
     "text": [
      "Best params: {'C': 0.01}\n"
     ]
    }
   ],
   "source": [
    "# initialize Elastic Net model\n",
    "en = LogisticRegression(penalty='l2', solver='saga', max_iter = 1000)\n",
    "\n",
    "# specify parameters for optimization\n",
    "parameters = {\n",
    "    'C': [0.001, 0.01, 0.1, 1, 10, 100]\n",
    "  }\n",
    "\n",
    "# identify optimal parameters\n",
    "clf = GridSearchCV(\n",
    "    estimator = en,\n",
    "    param_grid = parameters,\n",
    "    #verbose=2\n",
    "  )\n",
    "clf.fit(X_train, y_train)\n",
    "print('Best params:', clf.best_params_ )"
   ]
  },
  {
   "cell_type": "code",
   "execution_count": 64,
   "metadata": {
    "colab": {
     "base_uri": "https://localhost:8080/"
    },
    "id": "166viDUsKewa",
    "outputId": "00d900ee-05fe-4ef5-f8a0-2b679e2a691a"
   },
   "outputs": [
    {
     "name": "stdout",
     "output_type": "stream",
     "text": [
      "Precision: 0.0\n",
      "Recall: 0.0\n",
      "F1-Score: 0.0\n"
     ]
    },
    {
     "name": "stderr",
     "output_type": "stream",
     "text": [
      "/usr/local/lib/python3.10/dist-packages/sklearn/metrics/_classification.py:1531: UndefinedMetricWarning: Precision is ill-defined and being set to 0.0 due to no predicted samples. Use `zero_division` parameter to control this behavior.\n",
      "  _warn_prf(average, modifier, f\"{metric.capitalize()} is\", len(result))\n"
     ]
    }
   ],
   "source": [
    "# test best model parameters on test data\n",
    "clf_best = clf.best_estimator_\n",
    "\n",
    "# get predicted values for test data\n",
    "y_pred = clf_best.predict(X_test)\n",
    "\n",
    "# compute precision and recall (and F1 score)\n",
    "precision = precision_score(y_test, y_pred)\n",
    "recall = recall_score(y_test, y_pred)\n",
    "f1 = f1_score(y_test, y_pred)\n",
    "\n",
    "print(\"Precision:\", precision)\n",
    "print(\"Recall:\", recall)\n",
    "print(\"F1-Score:\", f1)"
   ]
  },
  {
   "cell_type": "markdown",
   "metadata": {
    "id": "Gh5yKC_pN3yZ"
   },
   "source": [
    "Random Forest Training and Testing"
   ]
  },
  {
   "cell_type": "code",
   "execution_count": 65,
   "metadata": {
    "colab": {
     "base_uri": "https://localhost:8080/"
    },
    "id": "SL05uNlwN6DR",
    "outputId": "442c1d78-572d-4205-89d7-ee251ab1694b"
   },
   "outputs": [
    {
     "name": "stdout",
     "output_type": "stream",
     "text": [
      "Best params: {'max_depth': 10, 'max_features': 50, 'min_samples_leaf': 1, 'min_samples_split': 5, 'n_estimators': 10}\n"
     ]
    }
   ],
   "source": [
    "# initialize Random Forest model\n",
    "rf = RandomForestClassifier()\n",
    "\n",
    "# specify parameters for optimization\n",
    "parameters = {\n",
    "    'n_estimators': [10, 50, 100, 150, 200],\n",
    "    'max_depth': [None, 10, 20],\n",
    "    'min_samples_split': [2, 5],\n",
    "    'min_samples_leaf': [1, 2, 5],\n",
    "    'max_features': ['sqrt', 'log2', 50, 100, 200]\n",
    "}\n",
    "\n",
    "# identify optimal parameters\n",
    "clf = GridSearchCV(\n",
    "    estimator = rf,\n",
    "    param_grid = parameters,\n",
    "    #verbose=2\n",
    "  )\n",
    "clf.fit(X_train, y_train)\n",
    "print('Best params:', clf.best_params_ )"
   ]
  },
  {
   "cell_type": "code",
   "execution_count": 66,
   "metadata": {
    "colab": {
     "base_uri": "https://localhost:8080/"
    },
    "id": "WEcdfvsISpC3",
    "outputId": "a6341b59-1e95-4f8a-ade9-c8aacd9476a3"
   },
   "outputs": [
    {
     "name": "stdout",
     "output_type": "stream",
     "text": [
      "Precision: 1.0\n",
      "Recall: 0.5\n",
      "F1-Score: 0.6666666666666666\n"
     ]
    }
   ],
   "source": [
    "# test best model parameters on test data\n",
    "clf_best = clf.best_estimator_\n",
    "\n",
    "# get predicted values for test data\n",
    "y_pred = clf_best.predict(X_test)\n",
    "\n",
    "# compute precision and recall (and F1 score)\n",
    "precision = precision_score(y_test, y_pred)\n",
    "recall = recall_score(y_test, y_pred)\n",
    "f1 = f1_score(y_test, y_pred)\n",
    "\n",
    "print(\"Precision:\", precision)\n",
    "print(\"Recall:\", recall)\n",
    "print(\"F1-Score:\", f1)"
   ]
  }
 ],
 "metadata": {
  "colab": {
   "provenance": []
  },
  "kernelspec": {
   "display_name": "Python 3",
   "name": "python3"
  },
  "language_info": {
   "name": "python"
  }
 },
 "nbformat": 4,
 "nbformat_minor": 0
}
