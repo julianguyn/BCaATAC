{
  "nbformat": 4,
  "nbformat_minor": 0,
  "metadata": {
    "colab": {
      "provenance": []
    },
    "kernelspec": {
      "name": "python3",
      "display_name": "Python 3"
    },
    "language_info": {
      "name": "python"
    }
  },
  "cells": [
    {
      "cell_type": "code",
      "execution_count": null,
      "metadata": {
        "id": "YCjAUn-Ogwtv"
      },
      "outputs": [],
      "source": [
        "# load libraries\n",
        "import pandas as pd\n",
        "import numpy as np\n",
        "from sklearn import linear_model\n",
        "from sklearn.ensemble import RandomForestRegressor\n",
        "from sklearn.model_selection import train_test_split, GridSearchCV\n",
        "from sklearn.metrics import accuracy_score, precision_score, recall_score, f1_score, roc_auc_score, log_loss\n",
        "from scipy import stats"
      ]
    },
    {
      "cell_type": "code",
      "source": [
        "# specify file paths\n",
        "features = \"peakmat_AAC.csv\"\n",
        "response = \"pac_AAC.csv\"\n",
        "\n",
        "# read in files\n",
        "X = pd.read_csv(features)\n",
        "X = X.iloc[:, 1:]                       # remove cell line labels\n",
        "y = pd.read_csv(response)['response']   # read only drug response column"
      ],
      "metadata": {
        "id": "FJUsIM2FlVxT"
      },
      "execution_count": null,
      "outputs": []
    },
    {
      "cell_type": "code",
      "source": [
        "# split the training dataframe into train and val\n",
        "X_train, X_test, y_train, y_test = train_test_split(X, y, test_size=0.2, random_state=42)"
      ],
      "metadata": {
        "id": "hSD-lRBUvRQe"
      },
      "execution_count": null,
      "outputs": []
    },
    {
      "cell_type": "markdown",
      "source": [
        "Un-penalized Logistic Model Training and Testing"
      ],
      "metadata": {
        "id": "-NgKG0FFLP0V"
      }
    },
    {
      "cell_type": "code",
      "source": [
        "# initialize linear regression model\n",
        "reg = linear_model.LinearRegression()\n",
        "\n",
        "# fit model\n",
        "reg.fit(X_train, y_train)\n",
        "\n",
        "# get predicted values for test data\n",
        "y_pred = reg.predict(X_test)\n",
        "\n",
        "# compute correlations\n",
        "s_cor = stats.spearmanr(y_pred, y_test)\n",
        "p_cor = stats.pearsonr(y_pred, y_test)\n",
        "print('Spearman correlation:', s_cor[0])\n",
        "print('Pearson correlation:', p_cor[0])"
      ],
      "metadata": {
        "colab": {
          "base_uri": "https://localhost:8080/"
        },
        "id": "q0d_pai3LTP-",
        "outputId": "44ee3ef0-1c96-40b4-9b51-bec8b8c14cb6"
      },
      "execution_count": null,
      "outputs": [
        {
          "output_type": "stream",
          "name": "stdout",
          "text": [
            "Spearman correlation: 0.6121212121212121\n",
            "Spearman correlation: 0.5992668824291314\n"
          ]
        }
      ]
    },
    {
      "cell_type": "markdown",
      "source": [
        "LASSO Model Training and Testing"
      ],
      "metadata": {
        "id": "hPzQCsGOKJiw"
      }
    },
    {
      "cell_type": "code",
      "source": [
        "# initialize LASSO model\n",
        "lasso = linear_model.Lasso()\n",
        "\n",
        "# specify parameters for optimization\n",
        "parameters = {\n",
        "    'alpha': [0.1, 1, 10, 100],\n",
        "    'max_iter': [500, 1000, 5000, 7500]\n",
        "  }\n",
        "\n",
        "# identify optimal parameters\n",
        "reg = GridSearchCV(\n",
        "    estimator = lasso,\n",
        "    param_grid = parameters,\n",
        "    #verbose=2\n",
        "  )\n",
        "reg.fit(X_train, y_train)\n",
        "print('Best params:', reg.best_params_ )"
      ],
      "metadata": {
        "colab": {
          "base_uri": "https://localhost:8080/"
        },
        "id": "4oFBHcoXrWb2",
        "outputId": "eda6950a-eb2a-45f7-8bc8-3836565f1cb1"
      },
      "execution_count": null,
      "outputs": [
        {
          "output_type": "stream",
          "name": "stdout",
          "text": [
            "Best params: {'alpha': 0.1, 'max_iter': 500}\n"
          ]
        }
      ]
    },
    {
      "cell_type": "code",
      "source": [
        "# test best model parameters on test data\n",
        "reg_best = reg.best_estimator_\n",
        "\n",
        "# get predicted values for test data\n",
        "y_pred = reg_best.predict(X_test)\n",
        "\n",
        "# compute correlations\n",
        "s_cor = stats.spearmanr(y_pred, y_test)\n",
        "p_cor = stats.pearsonr(y_pred, y_test)\n",
        "print('Spearman correlation:', s_cor[0])\n",
        "print('Pearson correlation:', p_cor[0])"
      ],
      "metadata": {
        "colab": {
          "base_uri": "https://localhost:8080/"
        },
        "id": "WeEowQubwVPi",
        "outputId": "61cbba1e-dbfb-4fb3-920c-46c866334f3b"
      },
      "execution_count": null,
      "outputs": [
        {
          "output_type": "stream",
          "name": "stdout",
          "text": [
            "    chr1.1260419.1260919  chr1.2206130.2206630  chr1.2371989.2372489  \\\n",
            "27                     0                     0                     0   \n",
            "39                     0                     0                     0   \n",
            "26                     1                     1                     1   \n",
            "43                     0                     0                     0   \n",
            "24                     0                     0                     0   \n",
            "36                     1                     0                     0   \n",
            "12                     0                     0                     0   \n",
            "19                     0                     0                     0   \n",
            "4                      0                     1                     0   \n",
            "25                     0                     0                     0   \n",
            "\n",
            "    chr1.3431680.3432180  chr1.4397996.4398496  chr1.5784840.5785340  \\\n",
            "27                     0                     0                     0   \n",
            "39                     0                     0                     1   \n",
            "26                     1                     0                     0   \n",
            "43                     0                     0                     0   \n",
            "24                     1                     1                     0   \n",
            "36                     1                     0                     0   \n",
            "12                     0                     0                     0   \n",
            "19                     0                     0                     0   \n",
            "4                      1                     0                     0   \n",
            "25                     0                     0                     0   \n",
            "\n",
            "    chr1.5879796.5880296  chr1.6899604.6900104  chr1.7361278.7361778  \\\n",
            "27                     0                     0                     0   \n",
            "39                     0                     1                     1   \n",
            "26                     1                     0                     0   \n",
            "43                     0                     0                     0   \n",
            "24                     0                     0                     0   \n",
            "36                     0                     0                     0   \n",
            "12                     0                     1                     0   \n",
            "19                     0                     0                     0   \n",
            "4                      1                     0                     0   \n",
            "25                     0                     0                     0   \n",
            "\n",
            "    chr1.7940649.7941149  ...  chr22.45112241.45112741  chrX.7074722.7075222  \\\n",
            "27                     1  ...                        1                     0   \n",
            "39                     0  ...                        0                     0   \n",
            "26                     1  ...                        1                     0   \n",
            "43                     1  ...                        0                     0   \n",
            "24                     0  ...                        0                     0   \n",
            "36                     0  ...                        0                     0   \n",
            "12                     1  ...                        0                     0   \n",
            "19                     0  ...                        0                     0   \n",
            "4                      0  ...                        0                     0   \n",
            "25                     1  ...                        0                     0   \n",
            "\n",
            "    chrX.21926786.21927286  chrX.39559075.39559575  chrX.67698628.67699128  \\\n",
            "27                       1                       1                       0   \n",
            "39                       1                       0                       0   \n",
            "26                       1                       1                       0   \n",
            "43                       1                       0                       0   \n",
            "24                       1                       0                       0   \n",
            "36                       1                       0                       0   \n",
            "12                       1                       1                       0   \n",
            "19                       1                       0                       0   \n",
            "4                        1                       0                       0   \n",
            "25                       1                       0                       0   \n",
            "\n",
            "    chrX.71911144.71911644  chrX.78064866.78065366  chrX.153710446.153710946  \\\n",
            "27                       1                       1                         0   \n",
            "39                       1                       1                         1   \n",
            "26                       0                       1                         0   \n",
            "43                       1                       1                         0   \n",
            "24                       0                       0                         0   \n",
            "36                       0                       1                         0   \n",
            "12                       1                       1                         1   \n",
            "19                       1                       1                         0   \n",
            "4                        0                       1                         0   \n",
            "25                       1                       1                         0   \n",
            "\n",
            "    chrX.153962285.153962785  chrX.155645112.155645612  \n",
            "27                         0                         0  \n",
            "39                         1                         1  \n",
            "26                         0                         0  \n",
            "43                         0                         0  \n",
            "24                         0                         1  \n",
            "36                         0                         0  \n",
            "12                         0                         0  \n",
            "19                         0                         0  \n",
            "4                          0                         0  \n",
            "25                         0                         0  \n",
            "\n",
            "[10 rows x 1003 columns]\n",
            "[0.29632433 0.29632433 0.29632433 0.29632433 0.29632433 0.29632433\n",
            " 0.29632433 0.29632433 0.29632433 0.29632433]\n",
            "27    0.248558\n",
            "39    0.058092\n",
            "26    0.434707\n",
            "43    0.431717\n",
            "24    0.289752\n",
            "36    0.418760\n",
            "12    0.328150\n",
            "19    0.226382\n",
            "4     0.483682\n",
            "25    0.401448\n",
            "Name: response, dtype: float64\n",
            "Spearman correlation: nan\n",
            "Pearson correlation: nan\n"
          ]
        },
        {
          "output_type": "stream",
          "name": "stderr",
          "text": [
            "<ipython-input-28-ca6d8b1d7989>:11: ConstantInputWarning: An input array is constant; the correlation coefficient is not defined.\n",
            "  s_cor = stats.spearmanr(y_pred, y_test)\n",
            "<ipython-input-28-ca6d8b1d7989>:12: ConstantInputWarning: An input array is constant; the correlation coefficient is not defined.\n",
            "  p_cor = stats.pearsonr(y_pred, y_test)\n"
          ]
        }
      ]
    },
    {
      "cell_type": "markdown",
      "source": [
        "Ridge Model Training and Testing"
      ],
      "metadata": {
        "id": "QZ6Fq5dlKOyp"
      }
    },
    {
      "cell_type": "code",
      "source": [
        "# initialize Ridge model\n",
        "ridge = linear_model.Ridge()\n",
        "\n",
        "# fit model\n",
        "ridge.fit(X_train, y_train)\n",
        "\n",
        "# get predicted values for test data\n",
        "y_pred = reg.predict(X_test)\n",
        "\n",
        "# compute correlations\n",
        "s_cor = stats.spearmanr(y_pred, y_test)\n",
        "p_cor = stats.pearsonr(y_pred, y_test)\n",
        "print('Spearman correlation:', s_cor[0])\n",
        "print('Pearson correlation:', p_cor[0])"
      ],
      "metadata": {
        "colab": {
          "base_uri": "https://localhost:8080/"
        },
        "id": "m9cBbofjKQrc",
        "outputId": "e5ce87f6-884d-45a1-bd5c-176fbbead13d"
      },
      "execution_count": null,
      "outputs": [
        {
          "output_type": "stream",
          "name": "stdout",
          "text": [
            "Spearman correlation: nan\n",
            "Pearson correlation: nan\n"
          ]
        },
        {
          "output_type": "stream",
          "name": "stderr",
          "text": [
            "<ipython-input-29-1ba05d665f6a>:11: ConstantInputWarning: An input array is constant; the correlation coefficient is not defined.\n",
            "  s_cor = stats.spearmanr(y_pred, y_test)\n",
            "<ipython-input-29-1ba05d665f6a>:12: ConstantInputWarning: An input array is constant; the correlation coefficient is not defined.\n",
            "  p_cor = stats.pearsonr(y_pred, y_test)\n"
          ]
        }
      ]
    },
    {
      "cell_type": "markdown",
      "source": [
        "ElasticNet Model Training and Testing"
      ],
      "metadata": {
        "id": "IN-niQkHKZTv"
      }
    },
    {
      "cell_type": "code",
      "source": [
        "# initialize Elastic Net model\n",
        "en = linear_model.ElasticNet()\n",
        "\n",
        "# specify parameters for optimization\n",
        "parameters = {\n",
        "    'alpha': [0.1, 1, 10, 100],\n",
        "    'l1_ratio': [0.2, 0.5, 0.8],\n",
        "    'max_iter': [1000, 5000, 7500]\n",
        "  }\n",
        "\n",
        "# identify optimal parameters\n",
        "reg = GridSearchCV(\n",
        "    estimator = en,\n",
        "    param_grid = parameters,\n",
        "    #verbose=2\n",
        "  )\n",
        "reg.fit(X_train, y_train)\n",
        "print('Best params:', reg.best_params_ )"
      ],
      "metadata": {
        "id": "iaCvwGzrKbRg"
      },
      "execution_count": null,
      "outputs": []
    },
    {
      "cell_type": "code",
      "source": [
        "# test best model parameters on test data\n",
        "reg_best = reg.best_estimator_\n",
        "\n",
        "# get predicted values for test data\n",
        "y_pred = reg_best.predict(X_test)\n",
        "\n",
        "# compute correlations\n",
        "s_cor = stats.spearmanr(y_pred, y_test)\n",
        "p_cor = stats.pearsonr(y_pred, y_test)\n",
        "print('Spearman correlation:', s_cor[0])\n",
        "print('Pearson correlation:', p_cor[0])"
      ],
      "metadata": {
        "id": "166viDUsKewa"
      },
      "execution_count": null,
      "outputs": []
    },
    {
      "cell_type": "code",
      "source": [
        "### Investigate feature importance\n",
        "\n",
        "# initialize and fit Elastic Net model\n",
        "en = linear_model.ElasticNet(alpha = 0.1, l1_ratio = 0.2, max_iter = 1000)\n",
        "en.fit(X_train, y_train)\n",
        "\n",
        "# get coefficients\n",
        "coefficients = en.coef_\n",
        "\n",
        "# create feature importance dataframe\n",
        "feature_importance = pd.DataFrame({\n",
        "    'Peak': X_train.columns,\n",
        "    'Weight': coefficients\n",
        "}).sort_values(by='Weight', ascending=False)\n",
        "\n",
        "feature_importance.to_csv('feature_importance.csv', index=False)\n",
        "feature_importance"
      ],
      "metadata": {
        "colab": {
          "base_uri": "https://localhost:8080/",
          "height": 423
        },
        "id": "7p7Z8-N0l-en",
        "outputId": "19ba6ef7-4e7b-44be-ee6e-b5ddb9cff1b7"
      },
      "execution_count": null,
      "outputs": [
        {
          "output_type": "execute_result",
          "data": {
            "text/plain": [
              "                         Peak    Weight\n",
              "251    chr3.40649300.40649800  0.036250\n",
              "471  chr7.134751917.134752417  0.018981\n",
              "128  chr1.216815488.216815988  0.015451\n",
              "421  chr6.134908052.134908552  0.011477\n",
              "543    chr9.13718685.13719185  0.000352\n",
              "..                        ...       ...\n",
              "735       chr12.178091.178591 -0.008403\n",
              "793   chr14.37598144.37598644 -0.010007\n",
              "873   chr16.88905594.88906094 -0.017537\n",
              "381  chr5.174724906.174725406 -0.023270\n",
              "636  chr9.136829178.136829678 -0.028576\n",
              "\n",
              "[1003 rows x 2 columns]"
            ],
            "text/html": [
              "\n",
              "  <div id=\"df-efdbdfa9-7b18-4e38-a247-45b9c1c089a2\" class=\"colab-df-container\">\n",
              "    <div>\n",
              "<style scoped>\n",
              "    .dataframe tbody tr th:only-of-type {\n",
              "        vertical-align: middle;\n",
              "    }\n",
              "\n",
              "    .dataframe tbody tr th {\n",
              "        vertical-align: top;\n",
              "    }\n",
              "\n",
              "    .dataframe thead th {\n",
              "        text-align: right;\n",
              "    }\n",
              "</style>\n",
              "<table border=\"1\" class=\"dataframe\">\n",
              "  <thead>\n",
              "    <tr style=\"text-align: right;\">\n",
              "      <th></th>\n",
              "      <th>Peak</th>\n",
              "      <th>Weight</th>\n",
              "    </tr>\n",
              "  </thead>\n",
              "  <tbody>\n",
              "    <tr>\n",
              "      <th>251</th>\n",
              "      <td>chr3.40649300.40649800</td>\n",
              "      <td>0.036250</td>\n",
              "    </tr>\n",
              "    <tr>\n",
              "      <th>471</th>\n",
              "      <td>chr7.134751917.134752417</td>\n",
              "      <td>0.018981</td>\n",
              "    </tr>\n",
              "    <tr>\n",
              "      <th>128</th>\n",
              "      <td>chr1.216815488.216815988</td>\n",
              "      <td>0.015451</td>\n",
              "    </tr>\n",
              "    <tr>\n",
              "      <th>421</th>\n",
              "      <td>chr6.134908052.134908552</td>\n",
              "      <td>0.011477</td>\n",
              "    </tr>\n",
              "    <tr>\n",
              "      <th>543</th>\n",
              "      <td>chr9.13718685.13719185</td>\n",
              "      <td>0.000352</td>\n",
              "    </tr>\n",
              "    <tr>\n",
              "      <th>...</th>\n",
              "      <td>...</td>\n",
              "      <td>...</td>\n",
              "    </tr>\n",
              "    <tr>\n",
              "      <th>735</th>\n",
              "      <td>chr12.178091.178591</td>\n",
              "      <td>-0.008403</td>\n",
              "    </tr>\n",
              "    <tr>\n",
              "      <th>793</th>\n",
              "      <td>chr14.37598144.37598644</td>\n",
              "      <td>-0.010007</td>\n",
              "    </tr>\n",
              "    <tr>\n",
              "      <th>873</th>\n",
              "      <td>chr16.88905594.88906094</td>\n",
              "      <td>-0.017537</td>\n",
              "    </tr>\n",
              "    <tr>\n",
              "      <th>381</th>\n",
              "      <td>chr5.174724906.174725406</td>\n",
              "      <td>-0.023270</td>\n",
              "    </tr>\n",
              "    <tr>\n",
              "      <th>636</th>\n",
              "      <td>chr9.136829178.136829678</td>\n",
              "      <td>-0.028576</td>\n",
              "    </tr>\n",
              "  </tbody>\n",
              "</table>\n",
              "<p>1003 rows × 2 columns</p>\n",
              "</div>\n",
              "    <div class=\"colab-df-buttons\">\n",
              "\n",
              "  <div class=\"colab-df-container\">\n",
              "    <button class=\"colab-df-convert\" onclick=\"convertToInteractive('df-efdbdfa9-7b18-4e38-a247-45b9c1c089a2')\"\n",
              "            title=\"Convert this dataframe to an interactive table.\"\n",
              "            style=\"display:none;\">\n",
              "\n",
              "  <svg xmlns=\"http://www.w3.org/2000/svg\" height=\"24px\" viewBox=\"0 -960 960 960\">\n",
              "    <path d=\"M120-120v-720h720v720H120Zm60-500h600v-160H180v160Zm220 220h160v-160H400v160Zm0 220h160v-160H400v160ZM180-400h160v-160H180v160Zm440 0h160v-160H620v160ZM180-180h160v-160H180v160Zm440 0h160v-160H620v160Z\"/>\n",
              "  </svg>\n",
              "    </button>\n",
              "\n",
              "  <style>\n",
              "    .colab-df-container {\n",
              "      display:flex;\n",
              "      gap: 12px;\n",
              "    }\n",
              "\n",
              "    .colab-df-convert {\n",
              "      background-color: #E8F0FE;\n",
              "      border: none;\n",
              "      border-radius: 50%;\n",
              "      cursor: pointer;\n",
              "      display: none;\n",
              "      fill: #1967D2;\n",
              "      height: 32px;\n",
              "      padding: 0 0 0 0;\n",
              "      width: 32px;\n",
              "    }\n",
              "\n",
              "    .colab-df-convert:hover {\n",
              "      background-color: #E2EBFA;\n",
              "      box-shadow: 0px 1px 2px rgba(60, 64, 67, 0.3), 0px 1px 3px 1px rgba(60, 64, 67, 0.15);\n",
              "      fill: #174EA6;\n",
              "    }\n",
              "\n",
              "    .colab-df-buttons div {\n",
              "      margin-bottom: 4px;\n",
              "    }\n",
              "\n",
              "    [theme=dark] .colab-df-convert {\n",
              "      background-color: #3B4455;\n",
              "      fill: #D2E3FC;\n",
              "    }\n",
              "\n",
              "    [theme=dark] .colab-df-convert:hover {\n",
              "      background-color: #434B5C;\n",
              "      box-shadow: 0px 1px 3px 1px rgba(0, 0, 0, 0.15);\n",
              "      filter: drop-shadow(0px 1px 2px rgba(0, 0, 0, 0.3));\n",
              "      fill: #FFFFFF;\n",
              "    }\n",
              "  </style>\n",
              "\n",
              "    <script>\n",
              "      const buttonEl =\n",
              "        document.querySelector('#df-efdbdfa9-7b18-4e38-a247-45b9c1c089a2 button.colab-df-convert');\n",
              "      buttonEl.style.display =\n",
              "        google.colab.kernel.accessAllowed ? 'block' : 'none';\n",
              "\n",
              "      async function convertToInteractive(key) {\n",
              "        const element = document.querySelector('#df-efdbdfa9-7b18-4e38-a247-45b9c1c089a2');\n",
              "        const dataTable =\n",
              "          await google.colab.kernel.invokeFunction('convertToInteractive',\n",
              "                                                    [key], {});\n",
              "        if (!dataTable) return;\n",
              "\n",
              "        const docLinkHtml = 'Like what you see? Visit the ' +\n",
              "          '<a target=\"_blank\" href=https://colab.research.google.com/notebooks/data_table.ipynb>data table notebook</a>'\n",
              "          + ' to learn more about interactive tables.';\n",
              "        element.innerHTML = '';\n",
              "        dataTable['output_type'] = 'display_data';\n",
              "        await google.colab.output.renderOutput(dataTable, element);\n",
              "        const docLink = document.createElement('div');\n",
              "        docLink.innerHTML = docLinkHtml;\n",
              "        element.appendChild(docLink);\n",
              "      }\n",
              "    </script>\n",
              "  </div>\n",
              "\n",
              "\n",
              "<div id=\"df-56f91ebe-5f5e-4a2f-8704-9671803fb7a3\">\n",
              "  <button class=\"colab-df-quickchart\" onclick=\"quickchart('df-56f91ebe-5f5e-4a2f-8704-9671803fb7a3')\"\n",
              "            title=\"Suggest charts\"\n",
              "            style=\"display:none;\">\n",
              "\n",
              "<svg xmlns=\"http://www.w3.org/2000/svg\" height=\"24px\"viewBox=\"0 0 24 24\"\n",
              "     width=\"24px\">\n",
              "    <g>\n",
              "        <path d=\"M19 3H5c-1.1 0-2 .9-2 2v14c0 1.1.9 2 2 2h14c1.1 0 2-.9 2-2V5c0-1.1-.9-2-2-2zM9 17H7v-7h2v7zm4 0h-2V7h2v10zm4 0h-2v-4h2v4z\"/>\n",
              "    </g>\n",
              "</svg>\n",
              "  </button>\n",
              "\n",
              "<style>\n",
              "  .colab-df-quickchart {\n",
              "      --bg-color: #E8F0FE;\n",
              "      --fill-color: #1967D2;\n",
              "      --hover-bg-color: #E2EBFA;\n",
              "      --hover-fill-color: #174EA6;\n",
              "      --disabled-fill-color: #AAA;\n",
              "      --disabled-bg-color: #DDD;\n",
              "  }\n",
              "\n",
              "  [theme=dark] .colab-df-quickchart {\n",
              "      --bg-color: #3B4455;\n",
              "      --fill-color: #D2E3FC;\n",
              "      --hover-bg-color: #434B5C;\n",
              "      --hover-fill-color: #FFFFFF;\n",
              "      --disabled-bg-color: #3B4455;\n",
              "      --disabled-fill-color: #666;\n",
              "  }\n",
              "\n",
              "  .colab-df-quickchart {\n",
              "    background-color: var(--bg-color);\n",
              "    border: none;\n",
              "    border-radius: 50%;\n",
              "    cursor: pointer;\n",
              "    display: none;\n",
              "    fill: var(--fill-color);\n",
              "    height: 32px;\n",
              "    padding: 0;\n",
              "    width: 32px;\n",
              "  }\n",
              "\n",
              "  .colab-df-quickchart:hover {\n",
              "    background-color: var(--hover-bg-color);\n",
              "    box-shadow: 0 1px 2px rgba(60, 64, 67, 0.3), 0 1px 3px 1px rgba(60, 64, 67, 0.15);\n",
              "    fill: var(--button-hover-fill-color);\n",
              "  }\n",
              "\n",
              "  .colab-df-quickchart-complete:disabled,\n",
              "  .colab-df-quickchart-complete:disabled:hover {\n",
              "    background-color: var(--disabled-bg-color);\n",
              "    fill: var(--disabled-fill-color);\n",
              "    box-shadow: none;\n",
              "  }\n",
              "\n",
              "  .colab-df-spinner {\n",
              "    border: 2px solid var(--fill-color);\n",
              "    border-color: transparent;\n",
              "    border-bottom-color: var(--fill-color);\n",
              "    animation:\n",
              "      spin 1s steps(1) infinite;\n",
              "  }\n",
              "\n",
              "  @keyframes spin {\n",
              "    0% {\n",
              "      border-color: transparent;\n",
              "      border-bottom-color: var(--fill-color);\n",
              "      border-left-color: var(--fill-color);\n",
              "    }\n",
              "    20% {\n",
              "      border-color: transparent;\n",
              "      border-left-color: var(--fill-color);\n",
              "      border-top-color: var(--fill-color);\n",
              "    }\n",
              "    30% {\n",
              "      border-color: transparent;\n",
              "      border-left-color: var(--fill-color);\n",
              "      border-top-color: var(--fill-color);\n",
              "      border-right-color: var(--fill-color);\n",
              "    }\n",
              "    40% {\n",
              "      border-color: transparent;\n",
              "      border-right-color: var(--fill-color);\n",
              "      border-top-color: var(--fill-color);\n",
              "    }\n",
              "    60% {\n",
              "      border-color: transparent;\n",
              "      border-right-color: var(--fill-color);\n",
              "    }\n",
              "    80% {\n",
              "      border-color: transparent;\n",
              "      border-right-color: var(--fill-color);\n",
              "      border-bottom-color: var(--fill-color);\n",
              "    }\n",
              "    90% {\n",
              "      border-color: transparent;\n",
              "      border-bottom-color: var(--fill-color);\n",
              "    }\n",
              "  }\n",
              "</style>\n",
              "\n",
              "  <script>\n",
              "    async function quickchart(key) {\n",
              "      const quickchartButtonEl =\n",
              "        document.querySelector('#' + key + ' button');\n",
              "      quickchartButtonEl.disabled = true;  // To prevent multiple clicks.\n",
              "      quickchartButtonEl.classList.add('colab-df-spinner');\n",
              "      try {\n",
              "        const charts = await google.colab.kernel.invokeFunction(\n",
              "            'suggestCharts', [key], {});\n",
              "      } catch (error) {\n",
              "        console.error('Error during call to suggestCharts:', error);\n",
              "      }\n",
              "      quickchartButtonEl.classList.remove('colab-df-spinner');\n",
              "      quickchartButtonEl.classList.add('colab-df-quickchart-complete');\n",
              "    }\n",
              "    (() => {\n",
              "      let quickchartButtonEl =\n",
              "        document.querySelector('#df-56f91ebe-5f5e-4a2f-8704-9671803fb7a3 button');\n",
              "      quickchartButtonEl.style.display =\n",
              "        google.colab.kernel.accessAllowed ? 'block' : 'none';\n",
              "    })();\n",
              "  </script>\n",
              "</div>\n",
              "\n",
              "  <div id=\"id_fa84b889-cc03-4b49-bce6-2e7b8641b161\">\n",
              "    <style>\n",
              "      .colab-df-generate {\n",
              "        background-color: #E8F0FE;\n",
              "        border: none;\n",
              "        border-radius: 50%;\n",
              "        cursor: pointer;\n",
              "        display: none;\n",
              "        fill: #1967D2;\n",
              "        height: 32px;\n",
              "        padding: 0 0 0 0;\n",
              "        width: 32px;\n",
              "      }\n",
              "\n",
              "      .colab-df-generate:hover {\n",
              "        background-color: #E2EBFA;\n",
              "        box-shadow: 0px 1px 2px rgba(60, 64, 67, 0.3), 0px 1px 3px 1px rgba(60, 64, 67, 0.15);\n",
              "        fill: #174EA6;\n",
              "      }\n",
              "\n",
              "      [theme=dark] .colab-df-generate {\n",
              "        background-color: #3B4455;\n",
              "        fill: #D2E3FC;\n",
              "      }\n",
              "\n",
              "      [theme=dark] .colab-df-generate:hover {\n",
              "        background-color: #434B5C;\n",
              "        box-shadow: 0px 1px 3px 1px rgba(0, 0, 0, 0.15);\n",
              "        filter: drop-shadow(0px 1px 2px rgba(0, 0, 0, 0.3));\n",
              "        fill: #FFFFFF;\n",
              "      }\n",
              "    </style>\n",
              "    <button class=\"colab-df-generate\" onclick=\"generateWithVariable('feature_importance')\"\n",
              "            title=\"Generate code using this dataframe.\"\n",
              "            style=\"display:none;\">\n",
              "\n",
              "  <svg xmlns=\"http://www.w3.org/2000/svg\" height=\"24px\"viewBox=\"0 0 24 24\"\n",
              "       width=\"24px\">\n",
              "    <path d=\"M7,19H8.4L18.45,9,17,7.55,7,17.6ZM5,21V16.75L18.45,3.32a2,2,0,0,1,2.83,0l1.4,1.43a1.91,1.91,0,0,1,.58,1.4,1.91,1.91,0,0,1-.58,1.4L9.25,21ZM18.45,9,17,7.55Zm-12,3A5.31,5.31,0,0,0,4.9,8.1,5.31,5.31,0,0,0,1,6.5,5.31,5.31,0,0,0,4.9,4.9,5.31,5.31,0,0,0,6.5,1,5.31,5.31,0,0,0,8.1,4.9,5.31,5.31,0,0,0,12,6.5,5.46,5.46,0,0,0,6.5,12Z\"/>\n",
              "  </svg>\n",
              "    </button>\n",
              "    <script>\n",
              "      (() => {\n",
              "      const buttonEl =\n",
              "        document.querySelector('#id_fa84b889-cc03-4b49-bce6-2e7b8641b161 button.colab-df-generate');\n",
              "      buttonEl.style.display =\n",
              "        google.colab.kernel.accessAllowed ? 'block' : 'none';\n",
              "\n",
              "      buttonEl.onclick = () => {\n",
              "        google.colab.notebook.generateWithVariable('feature_importance');\n",
              "      }\n",
              "      })();\n",
              "    </script>\n",
              "  </div>\n",
              "\n",
              "    </div>\n",
              "  </div>\n"
            ],
            "application/vnd.google.colaboratory.intrinsic+json": {
              "type": "dataframe",
              "variable_name": "feature_importance",
              "summary": "{\n  \"name\": \"feature_importance\",\n  \"rows\": 1003,\n  \"fields\": [\n    {\n      \"column\": \"Peak\",\n      \"properties\": {\n        \"dtype\": \"string\",\n        \"num_unique_values\": 1003,\n        \"samples\": [\n          \"chr1.30890890.30891390\",\n          \"chr1.38825388.38825888\",\n          \"chr7.25495257.25495757\"\n        ],\n        \"semantic_type\": \"\",\n        \"description\": \"\"\n      }\n    },\n    {\n      \"column\": \"Weight\",\n      \"properties\": {\n        \"dtype\": \"number\",\n        \"std\": 0.0020085476428259434,\n        \"min\": -0.02857568416162885,\n        \"max\": 0.03625003805681526,\n        \"num_unique_values\": 19,\n        \"samples\": [\n          0.03625003805681526,\n          0.0,\n          -0.005631812759316533\n        ],\n        \"semantic_type\": \"\",\n        \"description\": \"\"\n      }\n    }\n  ]\n}"
            }
          },
          "metadata": {},
          "execution_count": 13
        }
      ]
    },
    {
      "cell_type": "markdown",
      "source": [
        "Random Forest Training and Testing"
      ],
      "metadata": {
        "id": "Gh5yKC_pN3yZ"
      }
    },
    {
      "cell_type": "code",
      "source": [
        "# initialize Random Forest model\n",
        "rf = RandomForestRegressor()\n",
        "\n",
        "# specify parameters for optimization\n",
        "parameters = {\n",
        "    'n_estimators': [10, 50, 100, 150, 200],\n",
        "    'max_depth': [None, 10, 20],\n",
        "    'min_samples_split': [2, 5],\n",
        "    'min_samples_leaf': [1, 2, 5],\n",
        "    'max_features': ['sqrt', 'log2', 50, 100, 200]\n",
        "}\n",
        "\n",
        "# identify optimal parameters\n",
        "reg = GridSearchCV(\n",
        "    estimator = rf,\n",
        "    param_grid = parameters,\n",
        "    #verbose=2\n",
        "  )\n",
        "reg.fit(X_train, y_train)\n",
        "print('Best params:', reg.best_params_ )"
      ],
      "metadata": {
        "colab": {
          "base_uri": "https://localhost:8080/"
        },
        "id": "SL05uNlwN6DR",
        "outputId": "d3cad1e0-f815-40d1-e8de-35ff4b9a6800"
      },
      "execution_count": null,
      "outputs": [
        {
          "output_type": "stream",
          "name": "stdout",
          "text": [
            "Best params: {'max_depth': None, 'max_features': 'log2', 'min_samples_leaf': 1, 'min_samples_split': 2, 'n_estimators': 150}\n"
          ]
        },
        {
          "output_type": "stream",
          "name": "stderr",
          "text": [
            "/usr/local/lib/python3.10/dist-packages/numpy/ma/core.py:2820: RuntimeWarning: invalid value encountered in cast\n",
            "  _data = np.array(data, dtype=dtype, copy=copy,\n"
          ]
        }
      ]
    },
    {
      "cell_type": "code",
      "source": [
        "# test best model parameters on test data\n",
        "reg_best = reg.best_estimator_\n",
        "\n",
        "# get predicted values for test data\n",
        "y_pred = reg_best.predict(X_test)\n",
        "\n",
        "# compute correlations\n",
        "s_cor = stats.spearmanr(y_pred, y_test)\n",
        "p_cor = stats.pearsonr(y_pred, y_test)\n",
        "print('Spearman correlation:', s_cor[0])\n",
        "print('Pearson correlation:', p_cor[0])"
      ],
      "metadata": {
        "colab": {
          "base_uri": "https://localhost:8080/"
        },
        "id": "WEcdfvsISpC3",
        "outputId": "08683556-31a3-4411-f49f-c9d8962bdb0e"
      },
      "execution_count": null,
      "outputs": [
        {
          "output_type": "stream",
          "name": "stdout",
          "text": [
            "Spearman correlation: 0.6606060606060605\n",
            "Pearson correlation: 0.6139311308747906\n"
          ]
        }
      ]
    }
  ]
}